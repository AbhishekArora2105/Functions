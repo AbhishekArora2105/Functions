{
 "cells": [
  {
   "cell_type": "markdown",
   "id": "83f3611e-df65-4460-8b97-ccf5c7cad8bb",
   "metadata": {},
   "source": [
    "Functions"
   ]
  },
  {
   "cell_type": "markdown",
   "id": "48fb5482-8693-4cae-ab12-d8b121438094",
   "metadata": {},
   "source": [
    "Theory Questions"
   ]
  },
  {
   "cell_type": "code",
   "execution_count": null,
   "id": "e71a90d9-ddbb-4100-896d-1084a7ebf45b",
   "metadata": {},
   "outputs": [],
   "source": [
    "#1.What is the difference between a function and a method in Python?\n",
    "'''\n",
    "Function: A reusable block of code that performs a specific task, defined using def and can be called independently.\n",
    "Method: A function that is associated with an object or class, defined within a class, and usually takes self as the first parameter to access class attributes.\n",
    "'''"
   ]
  },
  {
   "cell_type": "code",
   "execution_count": null,
   "id": "19f0afd2-3c3c-4947-ba4e-0eb46fda6aa4",
   "metadata": {},
   "outputs": [],
   "source": [
    "#2.Explain the concept of function arguments and parameters in Python.\n",
    "'''\n",
    "Parameters: They are the variables or values that are stated during function definition.\n",
    "Arguments:They are the variables or values that are stated during function call.\n",
    "'''"
   ]
  },
  {
   "cell_type": "code",
   "execution_count": null,
   "id": "6c4783ee-4f59-42fd-ae63-44e8d73c453f",
   "metadata": {},
   "outputs": [],
   "source": [
    "#3.What are the different ways to define and call a function in Python?\n",
    "'''\n",
    "There are various ways to define and call a function:\n",
    "1.Standard Function Definition and Call:\n",
    "Define using def keyword.\n",
    "Call by name. For eg.\n",
    "def greet():\n",
    "    print(\"Hello!\")\n",
    "\n",
    "greet()\n",
    "\n",
    "2.Function with Parameters:\n",
    "Define with parameters to pass values.\n",
    "Call with arguments. For eg.\n",
    "def greet(name):\n",
    "    print(f\"Hello, {name}!\")\n",
    "\n",
    "greet(\"Alice\")\n",
    "\n",
    "3.Function with Default Parameters:\n",
    "Define with default values for parameters.\n",
    "Call without or with parameters. For eg.\n",
    "def greet(name=\"Guest\"):\n",
    "    print(f\"Hello, {name}!\")\n",
    "\n",
    "greet()       # Uses default value\n",
    "greet(\"Bob\")  # Uses given argument\n",
    "\n",
    "'''"
   ]
  },
  {
   "cell_type": "code",
   "execution_count": null,
   "id": "479d4f15-32e8-4d0c-bed8-8dd89b2e52b0",
   "metadata": {},
   "outputs": [],
   "source": [
    "#4. What is the purpose of the `return` statement in a Python function?\n",
    "'''\n",
    "'return' keyword is used to return a particular value after execution of a function.It also helps to change function from nonetype to a \n",
    "particular data type like int or float as we expect our output to be.\n",
    "'''"
   ]
  },
  {
   "cell_type": "code",
   "execution_count": null,
   "id": "abc254f4-1d9c-4946-8396-9c7d8a4dc930",
   "metadata": {},
   "outputs": [],
   "source": [
    "#5.What are iterators in Python and how do they differ from iterables?\n",
    "'''\n",
    "Iterables:\n",
    "An iterable is any Python object capable of returning its members one at a time, allowing you to iterate over them.\n",
    "Examples include lists, tuples, dictionaries, sets, and strings.\n",
    "Iterables have an __iter__() method that returns an iterator.\n",
    "\n",
    "Iterators:\n",
    "An iterator is an object that represents a stream of data, producing items one at a time.\n",
    "Iterators have two key methods: __iter__() and __next__().\n",
    "The __next__() method returns the next item in the sequence. When there are no more items, it raises the StopIteration exception.\n",
    "'''"
   ]
  },
  {
   "cell_type": "code",
   "execution_count": null,
   "id": "027b0aa3-6713-4318-bcd5-a756893f96f2",
   "metadata": {},
   "outputs": [],
   "source": [
    "#6. Explain the concept of generators in Python and how they are defined.\n",
    "'''\n",
    "Generators: Functions that allow you to iterate over a sequence of values lazily (one at a time) using the yield keyword.\n",
    "\n",
    "def my_generator():\n",
    "    yield 1\n",
    "    yield 2\n",
    "    yield 3\n",
    "\n",
    "gen = my_generator()\n",
    "print(next(gen))  # Outputs: 1\n",
    "\n",
    "'''"
   ]
  },
  {
   "cell_type": "code",
   "execution_count": null,
   "id": "5048213a-833b-4eb5-b67a-6eb579e3c54f",
   "metadata": {},
   "outputs": [],
   "source": [
    "#7.What are the advantages of using generators over regular functions?\n",
    "'''\n",
    "Advantages of Generators:\n",
    "Memory Efficiency: Produce items one at a time, saving memory.\n",
    "Lazy Evaluation: Yield values only when needed, improving performance.\n",
    "Handle Infinite Sequences: Can generate infinite values without running out of memory.\n",
    "Improved Performance: Start producing values immediately.\n",
    "'''"
   ]
  },
  {
   "cell_type": "code",
   "execution_count": null,
   "id": "576cca27-98d6-4da5-8660-70d626809684",
   "metadata": {},
   "outputs": [],
   "source": [
    "#8.What is a lambda function in Python and when is it typically used?\n",
    "'''\n",
    "lambda function in python is a short form of conventional function because it requires only one line of code for the definition.\n",
    "\n",
    "sq=lambda x:x**2\n",
    "sq(3)\n",
    "output:9\n",
    "'''"
   ]
  },
  {
   "cell_type": "code",
   "execution_count": null,
   "id": "b9689fc8-a76b-450e-8562-0fb6b6d7d846",
   "metadata": {},
   "outputs": [],
   "source": [
    "#9.Explain the purpose and usage of the `map()` function in Python.\n",
    "'''\n",
    "map() funtion is used to iterate over an iterable .\n",
    "syntax>>map(func,iterable)\n",
    "\n",
    "l1=[1,2,3,4]\n",
    "list(map(lambda x:x*2,l1))\n",
    "output:[2,4,6,8]\n",
    "'''\n"
   ]
  },
  {
   "cell_type": "code",
   "execution_count": null,
   "id": "ca2e02e3-65c8-4717-9e2b-ce69da9ac32f",
   "metadata": {},
   "outputs": [],
   "source": [
    "#10.What is the difference between `map()`, `reduce()`, and `filter()` functions in Python?\n",
    "'''\n",
    "1.map():\n",
    "map() funtion is used to iterate over an iterable .\n",
    "syntax>>map(func,iterable)\n",
    "\n",
    "l1=[1,2,3,4]\n",
    "list(map(lambda x:x*2,l1))\n",
    "output:[2,4,6,8]\n",
    "\n",
    "2.reduce():\n",
    "reduce() is used to iterate over the iterable to give a single value out of the whole iterable\n",
    "we need to import this function from functools module\n",
    "syntax>>reduce(func,iterable)\n",
    "\n",
    "l1=[1,2,3,4]\n",
    "reduce(lambda x,y:x+y,l1)\n",
    "output:10\n",
    "\n",
    "3.filter():\n",
    "filter() functionn is used to filter out some elements based on the condition given\n",
    "syntax>>filter(func,iterable)\n",
    "\n",
    "l1=[1,2,3,4,5]\n",
    "list(filter(lambda x:x>3,l1))\n",
    "output:[4,5]\n",
    "\n",
    "'''"
   ]
  },
  {
   "cell_type": "raw",
   "id": "6f3c7b91-27e3-4930-ad67-0462a394474c",
   "metadata": {},
   "source": [
    "#11.Using pen & Paper write the internal mechanism for sum operation using  reduce function on this given list:[47,11,42,13]; \n",
    "\n"
   ]
  },
  {
   "cell_type": "markdown",
   "id": "081b1803-9e01-4732-8326-d353021e9891",
   "metadata": {},
   "source": [
    "Practical Questions"
   ]
  },
  {
   "cell_type": "code",
   "execution_count": 2,
   "id": "4d8bf5be-a6bc-42c6-abd3-0bed5c9449c8",
   "metadata": {},
   "outputs": [
    {
     "data": {
      "text/plain": [
       "20"
      ]
     },
     "execution_count": 2,
     "metadata": {},
     "output_type": "execute_result"
    }
   ],
   "source": [
    "#1. Write a Python function that takes a list of numbers as input and returns the sum of all even numbers in the list.\n",
    "\n",
    "def sum_even(list1):\n",
    "    sum1=0\n",
    "    for i in  list1:\n",
    "        if i%2==0:\n",
    "            sum1+=i\n",
    "    return sum1\n",
    "\n",
    "l1=[1,2,3,4,5,6,7,8,9]\n",
    "sum_even(l1)"
   ]
  },
  {
   "cell_type": "code",
   "execution_count": 5,
   "id": "9125242f-ed21-4476-9437-952d4d2d9d12",
   "metadata": {},
   "outputs": [
    {
     "data": {
      "text/plain": [
       "'lla ot olleH'"
      ]
     },
     "execution_count": 5,
     "metadata": {},
     "output_type": "execute_result"
    }
   ],
   "source": [
    "#2.Create a Python function that accepts a string and returns the reverse of that string.\n",
    "\n",
    "def reverse_str(str1):\n",
    "    return str1[::-1]\n",
    "\n",
    "\n",
    "str1=\"Hello to all\"\n",
    "reverse_str(str1)"
   ]
  },
  {
   "cell_type": "code",
   "execution_count": 6,
   "id": "6fe08d86-9319-4467-9d58-affd77f328b0",
   "metadata": {},
   "outputs": [
    {
     "data": {
      "text/plain": [
       "[1, 4, 9, 16]"
      ]
     },
     "execution_count": 6,
     "metadata": {},
     "output_type": "execute_result"
    }
   ],
   "source": [
    "#3. Implement a Python function that takes a list of integers and returns a new list containing the squares of each number.\n",
    "\n",
    "def sq(l1):\n",
    "    return  [x**2 for x in l1]\n",
    "\n",
    "l1=[1,2,3,4]\n",
    "sq(l1)\n",
    "\n"
   ]
  },
  {
   "cell_type": "code",
   "execution_count": 9,
   "id": "02443929-cd8c-40b3-9757-095f91c6e6ed",
   "metadata": {},
   "outputs": [
    {
     "data": {
      "text/plain": [
       "[2,\n",
       " 3,\n",
       " 5,\n",
       " 7,\n",
       " 11,\n",
       " 13,\n",
       " 17,\n",
       " 19,\n",
       " 23,\n",
       " 29,\n",
       " 31,\n",
       " 37,\n",
       " 41,\n",
       " 43,\n",
       " 47,\n",
       " 53,\n",
       " 59,\n",
       " 61,\n",
       " 67,\n",
       " 71,\n",
       " 73,\n",
       " 79,\n",
       " 83,\n",
       " 89,\n",
       " 97,\n",
       " 101,\n",
       " 103,\n",
       " 107,\n",
       " 109,\n",
       " 113,\n",
       " 127,\n",
       " 131,\n",
       " 137,\n",
       " 139,\n",
       " 149,\n",
       " 151,\n",
       " 157,\n",
       " 163,\n",
       " 167,\n",
       " 173,\n",
       " 179,\n",
       " 181,\n",
       " 191,\n",
       " 193,\n",
       " 197,\n",
       " 199]"
      ]
     },
     "execution_count": 9,
     "metadata": {},
     "output_type": "execute_result"
    }
   ],
   "source": [
    "#4. Write a Python function that checks if a given number is prime or not from 1 to 200.\n",
    "def check_prime(args):\n",
    "    if args<=1:\n",
    "        return False\n",
    "    for i in range(2,int(args**0.5)+1):\n",
    "        if args%i==0:\n",
    "            return False\n",
    "    return True\n",
    "\n",
    "def range_nos(a,b):\n",
    "    l1=[]\n",
    "    for i in range(a,b+1):\n",
    "        if(check_prime(i)):\n",
    "            l1.append(i)\n",
    "    return l1\n",
    "\n",
    "a=1\n",
    "b=200\n",
    "range_nos(1,200)\n",
    "            \n",
    "    "
   ]
  },
  {
   "cell_type": "code",
   "execution_count": 11,
   "id": "a0bff984-a489-47d9-a106-b0a831ee1827",
   "metadata": {},
   "outputs": [
    {
     "name": "stdout",
     "output_type": "stream",
     "text": [
      "1 1 2 3 5 8 13 21 34 55 "
     ]
    }
   ],
   "source": [
    "#5. Create an iterator class in Python that generates the Fibonacci sequence up to a specified number of terms.\n",
    "\n",
    "class Fibonacci:\n",
    "    def __init__(self, num_terms):\n",
    "        self.num_terms = num_terms\n",
    "        self.a, self.b = 0, 1\n",
    "        self.count = 0\n",
    "\n",
    "    def __iter__(self):\n",
    "        return self\n",
    "\n",
    "    def __next__(self):\n",
    "        if self.count >= self.num_terms:\n",
    "            raise StopIteration\n",
    "\n",
    "        self.a, self.b = self.b, self.a + self.b\n",
    "        self.count += 1\n",
    "        return self.a\n",
    "\n",
    "\n",
    "num_terms = 10\n",
    "for num in Fibonacci(num_terms):\n",
    "    print(num,end=\" \")\n"
   ]
  },
  {
   "cell_type": "code",
   "execution_count": 13,
   "id": "6e09a4a5-9e6e-41e6-868c-9386415f2eec",
   "metadata": {},
   "outputs": [
    {
     "name": "stdout",
     "output_type": "stream",
     "text": [
      "1 2 4 8 16 32 "
     ]
    }
   ],
   "source": [
    "#6.Write a generator function in Python that yields the powers of 2 up to a given exponent.\n",
    "\n",
    "def powers_of_two(max_exponent):\n",
    "    exponent = 0\n",
    "    while exponent <= max_exponent:\n",
    "        yield 2 ** exponent\n",
    "        exponent += 1\n",
    "\n",
    "\n",
    "for power in powers_of_two(5):\n",
    "    print(power,end=\" \")\n"
   ]
  },
  {
   "cell_type": "code",
   "execution_count": null,
   "id": "5673f01d-aec4-4c32-88ac-3bfbd37c6679",
   "metadata": {},
   "outputs": [],
   "source": [
    "#7.Implement a generator function that reads a file line by line and yields each line as a string.\n",
    "\n",
    "def read_file_line_by_line(file_path):\n",
    "    with open(file_path, 'r') as file:\n",
    "        for line in file:\n",
    "            yield line.strip()\n",
    "\n",
    "\n",
    "file_path = 'example.txt'\n",
    "for line in read_file_line_by_line(file_path):\n",
    "    print(line)\n"
   ]
  },
  {
   "cell_type": "code",
   "execution_count": 15,
   "id": "9e0afab5-cb51-495e-bf28-94a08cde9954",
   "metadata": {},
   "outputs": [
    {
     "name": "stdout",
     "output_type": "stream",
     "text": [
      "[(3, 1), (4, 2), (1, 3), (2, 5)]\n"
     ]
    }
   ],
   "source": [
    "#8. Use a lambda function in Python to sort a list of tuples based on the second element of each tuple.\n",
    "\n",
    "my_list = [(1, 3), (4, 2), (2, 5), (3, 1)]\n",
    "\n",
    "sorted_list = sorted(my_list, key=lambda x: x[1])\n",
    "print(sorted_list)\n"
   ]
  },
  {
   "cell_type": "code",
   "execution_count": 17,
   "id": "1f8347fb-fd14-4e58-b037-3938b6f1d80c",
   "metadata": {},
   "outputs": [
    {
     "data": {
      "text/plain": [
       "[98.60000000000001, 100.4, 102.2, 104.0]"
      ]
     },
     "execution_count": 17,
     "metadata": {},
     "output_type": "execute_result"
    }
   ],
   "source": [
    "#9.Write a Python program that uses `map()` to convert a list of temperatures from Celsius to Fahrenheit.\n",
    "\n",
    "l1=[37,38,39,40]\n",
    "list(map(lambda x:(x*(9/5))+32,l1))"
   ]
  },
  {
   "cell_type": "code",
   "execution_count": 18,
   "id": "d0315912-7b25-48dc-875c-91a1238e6220",
   "metadata": {},
   "outputs": [
    {
     "name": "stdout",
     "output_type": "stream",
     "text": [
      "Hll, Wrld!\n"
     ]
    }
   ],
   "source": [
    "#10.Create a Python program that uses `filter()` to remove all the vowels from a given string.\n",
    "\n",
    "def remove_vowels(input_string):\n",
    "    vowels = \"aeiouAEIOU\"\n",
    "    return ''.join(filter(lambda char: char not in vowels, input_string))\n",
    "\n",
    "input_string = \"Hello, World!\"\n",
    "result = remove_vowels(input_string)\n",
    "print(result)  "
   ]
  },
  {
   "cell_type": "code",
   "execution_count": 19,
   "id": "077450d3-835d-44a4-bbb1-c8e864095b40",
   "metadata": {},
   "outputs": [
    {
     "name": "stdout",
     "output_type": "stream",
     "text": [
      "[(1, 70), (2, 60), (3, 120)]\n"
     ]
    }
   ],
   "source": [
    "#11.Write a Python program, which returns a list with 2-tuples. Each tuple consists of the order number and the\n",
    "# product of the price per item and the quantity. The product should be increased by 10,- € if the value of the\n",
    "# order is smaller than 100,00 €.\n",
    "# Write a Python program using lambda and map.\n",
    "def calculate_order_value(orders):\n",
    "    return list(map(lambda order: (order[0], order[1] * order[2] + (10 if order[1] * order[2] < 100 else 0)), orders))\n",
    "\n",
    "orders = [(1, 20, 3), (2, 50, 1), (3, 10, 12)]\n",
    "result = calculate_order_value(orders)\n",
    "\n",
    "print(result)\n"
   ]
  }
 ],
 "metadata": {
  "kernelspec": {
   "display_name": "Python 3 (ipykernel)",
   "language": "python",
   "name": "python3"
  },
  "language_info": {
   "codemirror_mode": {
    "name": "ipython",
    "version": 3
   },
   "file_extension": ".py",
   "mimetype": "text/x-python",
   "name": "python",
   "nbconvert_exporter": "python",
   "pygments_lexer": "ipython3",
   "version": "3.12.7"
  }
 },
 "nbformat": 4,
 "nbformat_minor": 5
}
